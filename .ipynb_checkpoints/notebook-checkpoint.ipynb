{
 "cells": [
  {
   "cell_type": "markdown",
   "metadata": {
    "dc": {
     "key": "4"
    },
    "deletable": false,
    "editable": false,
    "run_control": {
     "frozen": true
    },
    "tags": [
     "context"
    ]
   },
   "source": [
    "## Energy saved from recycling\n",
    "<p>Did you know that recycling saves energy by reducing or eliminating the need to make materials from scratch? For example, aluminum can manufacturers can skip the energy-costly process of producing aluminum from ore by cleaning and melting recycled cans. Aluminum is classified as a non-ferrous metal.</p>\n",
    "<p>Singapore has an ambitious goal of becoming a zero-waste nation. The amount of waste disposed of in Singapore has increased seven-fold over the last 40 years. At this rate, Semakau Landfill, Singapore’s only landfill, will run out of space by 2035. Making matters worse, Singapore has limited land for building new incineration plants or landfills.</p>\n",
    "<p>The government would like to motivate citizens by sharing the total energy that the combined recycling efforts have saved every year. They have asked you to help them.</p>\n",
    "<p>You have been provided with three datasets. The data come from different teams, so the names of waste types may differ.</p>\n",
    "<div style=\"background-color: #efebe4; color: #05192d; text-align:left; vertical-align: middle; padding: 15px 25px 15px 25px; line-height: 1.6;\">\n",
    "    <div style=\"font-size:16px\"><b>datasets/wastestats.csv - Recycling statistics per waste type for the period 2003 to 2017</b>\n",
    "    </div>\n",
    "    <div>Source: <a href=\"https://www.nea.gov.sg/our-services/waste-management/waste-statistics-and-overall-recycling\">Singapore National Environment Agency</a></div>\n",
    "<ul>\n",
    "    <li><b>waste_type: </b>The type of waste recycled.</li>\n",
    "    <li><b>waste_disposed_of_tonne: </b>The amount of waste that could not be recycled (in metric tonnes).</li>\n",
    "    <li><b>total_waste_recycle_tonne: </b>The amount of waste that could be recycled (in metric tonnes).</li>\n",
    "    <li><b>total_waste_generated: </b>The total amount of waste collected before recycling (in metric tonnes).</li>\n",
    "    <li><b>recycling_rate: </b>The amount of waste recycled per tonne of waste generated.</li>\n",
    "    <li><b>year: </b>The recycling year.</li>\n",
    "</ul>\n",
    "    </div>\n",
    "<div style=\"background-color: #efebe4; color: #05192d; text-align:left; vertical-align: middle; padding: 15px 25px 15px 25px; line-height: 1.6; margin-top: 17px;\">\n",
    "    <div style=\"font-size:16px\"><b>datasets/2018_2019_waste.csv - Recycling statistics per waste type for the period 2018 to 2019</b>\n",
    "    </div>\n",
    "    <div> Source: <a href=\"https://www.nea.gov.sg/our-services/waste-management/waste-statistics-and-overall-recycling\">Singapore National Environment Agency</a></div>\n",
    "<ul>\n",
    "    <li><b>Waste Type: </b>The type of waste recycled.</li>\n",
    "    <li><b>Total Generated: </b>The total amount of waste collected before recycling (in thousands of metric tonnes).</li> \n",
    "    <li><b>Total Recycled: </b>The amount of waste that could be recycled. (in thousands of metric tonnes).</li>\n",
    "    <li><b>Year: </b>The recycling year.</li>\n",
    "</ul>\n",
    "    </div>\n",
    "<div style=\"background-color: #efebe4; color: #05192d; text-align:left; vertical-align: middle; padding: 15px 25px 15px 25px; line-height: 1.6; margin-top: 17px;\">\n",
    "    <div style=\"font-size:16px\"><b>datasets/energy_saved.csv -  Estimations of the amount of energy saved per waste type in kWh</b>\n",
    "    </div>\n",
    "<ul>\n",
    "    <li><b>material: </b>The type of waste recycled.</li>\n",
    "    <li><b>energy_saved: </b>An estimate of the energy saved (in kiloWatt hour) by recycling a metric tonne of waste.</li> \n",
    "    <li><b>crude_oil_saved: </b>An estimate of the number of barrels of oil saved by recycling a metric tonne of waste.</li>\n",
    "</ul>\n",
    "\n",
    "</div>\n",
    "<pre><code>\n",
    "</code></pre>"
   ]
  },
  {
   "cell_type": "code",
   "execution_count": 1,
   "metadata": {
    "dc": {
     "key": "4"
    },
    "tags": [
     "sample_code"
    ]
   },
   "outputs": [],
   "source": [
    "# Use this cell to begin your analysis, and add as many as you would like!\n",
    "#datasets/wastestats.csv \n",
    "#datasets/2018_2019_waste.csv\n",
    "#datasets/energy_saved.csv"
   ]
  },
  {
   "cell_type": "code",
   "execution_count": 2,
   "metadata": {
    "dc": {
     "key": "4"
    }
   },
   "outputs": [],
   "source": [
    "#importing packages\n",
    "import numpy as np\n",
    "import pandas as pd "
   ]
  },
  {
   "cell_type": "code",
   "execution_count": 3,
   "metadata": {
    "dc": {
     "key": "4"
    },
    "scrolled": true
   },
   "outputs": [],
   "source": [
    "##reading DataSets\n",
    "wastestats = pd.read_csv('datasets/wastestats.csv')\n",
    "_2018_waste = pd.read_csv('datasets/2018_2019_waste.csv')\n",
    "energy_saved = pd.read_csv('datasets/energy_saved.csv')"
   ]
  },
  {
   "cell_type": "code",
   "execution_count": 4,
   "metadata": {
    "dc": {
     "key": "4"
    }
   },
   "outputs": [],
   "source": [
    "#Cleaning Wastestats dataset\n",
    "wastestats['waste_type'] = wastestats['waste_type'].replace(['Plastics'],'plastic')\n",
    "wastestats['waste_type'] = wastestats['waste_type'].str.lower()\n",
    "\n",
    "#Slice Needed Dataframes for Glass and plastics\n",
    "glass_plastic = wastestats[np.logical_or(wastestats['waste_type']=='glass',\n",
    "                                         wastestats['waste_type']=='plastic')]\n",
    "\n",
    "#Slice Needed Dataframes for ferrous and non-ferrous metal\n",
    "ferrous = wastestats[np.logical_or(wastestats['waste_type']=='ferrous metals',\n",
    "                                   wastestats['waste_type']=='non-ferrous metal')]\n"
   ]
  },
  {
   "cell_type": "code",
   "execution_count": 5,
   "metadata": {
    "dc": {
     "key": "4"
    }
   },
   "outputs": [],
   "source": [
    "#combine dataframes\n",
    "frames = [glass_plastic,ferrous]\n",
    "result = pd.concat(frames)\n",
    "\n",
    "#sorting and slicing Combined DataFrame\n",
    "result = result.sort_values('year')\n",
    "result = result[result['year']>2014]\n",
    "result = result.reset_index(drop=True)\n",
    "#result"
   ]
  },
  {
   "cell_type": "code",
   "execution_count": 12,
   "metadata": {
    "dc": {
     "key": "4"
    },
    "scrolled": true
   },
   "outputs": [
    {
     "data": {
      "text/html": [
       "<div>\n",
       "<style scoped>\n",
       "    .dataframe tbody tr th:only-of-type {\n",
       "        vertical-align: middle;\n",
       "    }\n",
       "\n",
       "    .dataframe tbody tr th {\n",
       "        vertical-align: top;\n",
       "    }\n",
       "\n",
       "    .dataframe thead th {\n",
       "        text-align: right;\n",
       "    }\n",
       "</style>\n",
       "<table border=\"1\" class=\"dataframe\">\n",
       "  <thead>\n",
       "    <tr style=\"text-align: right;\">\n",
       "      <th></th>\n",
       "      <th>Waste Type</th>\n",
       "      <th>Total Generated ('000 tonnes)</th>\n",
       "      <th>Total Recycled ('000 tonnes)</th>\n",
       "      <th>Year</th>\n",
       "    </tr>\n",
       "  </thead>\n",
       "  <tbody>\n",
       "    <tr>\n",
       "      <th>1</th>\n",
       "      <td>ferrous metal</td>\n",
       "      <td>1278</td>\n",
       "      <td>1270</td>\n",
       "      <td>2019</td>\n",
       "    </tr>\n",
       "    <tr>\n",
       "      <th>10</th>\n",
       "      <td>non-ferrous metal</td>\n",
       "      <td>126</td>\n",
       "      <td>124</td>\n",
       "      <td>2019</td>\n",
       "    </tr>\n",
       "    <tr>\n",
       "      <th>16</th>\n",
       "      <td>ferrous metal</td>\n",
       "      <td>1269</td>\n",
       "      <td>126</td>\n",
       "      <td>2018</td>\n",
       "    </tr>\n",
       "    <tr>\n",
       "      <th>25</th>\n",
       "      <td>non-ferrous metal</td>\n",
       "      <td>171</td>\n",
       "      <td>170</td>\n",
       "      <td>2018</td>\n",
       "    </tr>\n",
       "  </tbody>\n",
       "</table>\n",
       "</div>"
      ],
      "text/plain": [
       "           Waste Type  Total Generated ('000 tonnes)  \\\n",
       "1       ferrous metal                           1278   \n",
       "10  non-ferrous metal                            126   \n",
       "16      ferrous metal                           1269   \n",
       "25  non-ferrous metal                            171   \n",
       "\n",
       "    Total Recycled ('000 tonnes)  Year  \n",
       "1                           1270  2019  \n",
       "10                           124  2019  \n",
       "16                           126  2018  \n",
       "25                           170  2018  "
      ]
     },
     "execution_count": 12,
     "metadata": {},
     "output_type": "execute_result"
    }
   ],
   "source": [
    "#Cleaning _2018_waste dataset\n",
    "_2018_waste['Waste Type'] = _2018_waste['Waste Type'].replace(['Plastics'],'Plastic')\n",
    "_2018_waste['Waste Type'] = _2018_waste['Waste Type'].str.lower()\n",
    "\n",
    "#Slice Needed Dataframes for Glass and plastics\n",
    "glass_plastic2 = _2018_waste[np.logical_or(_2018_waste['Waste Type']=='glass',\n",
    "                                         _2018_waste['Waste Type']=='plastic')]\n",
    "#Slice Needed Dataframes for ferrous and non-ferrous metal\n",
    "ferrous2 = _2018_waste[np.logical_or(_2018_waste['Waste Type']=='ferrous metal',\n",
    "                                   _2018_waste['Waste Type']=='non-ferrous metal')]\n",
    "#Mul recycled by 1000 as it measuered in tonnes\n",
    "#ferrous2[\"Total Recycled ('000 tonnes)\"] = ferrous2[\"Total Recycled ('000 tonnes)\"]*1000\n",
    "ferrous2"
   ]
  },
  {
   "cell_type": "code",
   "execution_count": 8,
   "metadata": {
    "dc": {
     "key": "4"
    }
   },
   "outputs": [],
   "source": [
    "#combine dataframes\n",
    "frames2 = [glass_plastic2,ferrous2]\n",
    "result2 = pd.concat(frames2)\n",
    "#result.set_index([\"year\"])\n",
    "\n",
    "#sorting and slicing Combined DataFrame\n",
    "result2 = result2.sort_values('Waste Type')\n",
    "result2.reset_index(inplace=True)\n",
    "#result.reset_index(inplace=True)\n",
    "#all_frames = [result,result2]\n",
    "\n",
    "#all_result = pd.concat(all_frames)\n",
    "#all_result = all_result.sort_index()\n"
   ]
  },
  {
   "cell_type": "code",
   "execution_count": null,
   "metadata": {
    "dc": {
     "key": "4"
    }
   },
   "outputs": [],
   "source": [
    "#matching coloumn names for concated dataframes\n",
    "new = result[['waste_type','total_waste_recycled_tonne','year']]\n",
    "new2 = result2.rename(columns = {'Waste Type':'waste_type',\n",
    "                                \"Total Recycled ('000 tonnes)\":\"total_waste_recycled_tonne\",\n",
    "                                \"Year\":\"year\"})\n",
    "new2 = new2[['waste_type','total_waste_recycled_tonne','year']]\n",
    "#new2.head()\n",
    "\n",
    "all2 = [new,new2]\n",
    "all2 = pd.concat(all2)\n",
    "\n",
    "all2 = all2.sort_index()\n",
    "#all2=all2.set_index(\"year\").sort_index()\n",
    "#all2"
   ]
  },
  {
   "cell_type": "code",
   "execution_count": null,
   "metadata": {
    "collapsed": true,
    "dc": {
     "key": "4"
    },
    "scrolled": false
   },
   "outputs": [],
   "source": [
    "energy = energy_saved.transpose()"
   ]
  },
  {
   "cell_type": "code",
   "execution_count": null,
   "metadata": {
    "collapsed": true,
    "dc": {
     "key": "4"
    },
    "scrolled": true
   },
   "outputs": [],
   "source": [
    "#g = all2[all2['waste_type']=='glass']\n",
    "#p = all2[all2['waste_type']=='plastic']\n",
    "#non = all2[all2['waste_type']=='non-ferrous metal']\n",
    "#f = all2[all2['waste_type']=='ferrous metal']\n",
    "all2=all2.sort_values(\"waste_type\")\n"
   ]
  },
  {
   "cell_type": "code",
   "execution_count": null,
   "metadata": {
    "collapsed": true,
    "dc": {
     "key": "4"
    }
   },
   "outputs": [],
   "source": [
    "energy = energy.rename(columns = {2:\"material\",3:\"energy_saved\"})\n",
    "energy = energy.reset_index(drop=True)\n",
    "energy = energy[[\"material\",\"energy_saved\"]]\n",
    "#energy"
   ]
  },
  {
   "cell_type": "code",
   "execution_count": null,
   "metadata": {
    "collapsed": true,
    "dc": {
     "key": "4"
    },
    "scrolled": true
   },
   "outputs": [],
   "source": [
    "_2015 = _2016 = _2017 = _2018 = _2019 = 0\n",
    "for i,row in all2.iterrows():\n",
    "    \n",
    "    if row[\"year\"]==2015:\n",
    "        if row[\"waste_type\"]==\"glass\":\n",
    "            _2015 += row['total_waste_recycled_tonne']*int(str(energy.iloc[[2]][['energy_saved']]).split()[2])\n",
    "        elif row[\"waste_type\"]==\"plastic\":\n",
    "            _2015 += row['total_waste_recycled_tonne']*int(str(energy.iloc[[1]][['energy_saved']]).split()[2])\n",
    "        elif row[\"waste_type\"]==\"non-ferrous metal\":\n",
    "            _2015 += row['total_waste_recycled_tonne']*int(str(energy.iloc[[4]][['energy_saved']]).split()[2])\n",
    "        else:\n",
    "            _2015 += row['total_waste_recycled_tonne']*int(str(energy.iloc[[3]][['energy_saved']]).split()[2])\n",
    "    \n",
    "    elif row[\"year\"]==2016:\n",
    "        if row[\"waste_type\"]==\"glass\":\n",
    "            _2016 += row['total_waste_recycled_tonne']*int(str(energy.iloc[[2]][['energy_saved']]).split()[2])\n",
    "        elif row[\"waste_type\"]==\"plastic\":\n",
    "            _2016 += row['total_waste_recycled_tonne']*int(str(energy.iloc[[1]][['energy_saved']]).split()[2])\n",
    "        elif row[\"waste_type\"]==\"non-ferrous metal\":\n",
    "            _2016 += row['total_waste_recycled_tonne']*int(str(energy.iloc[[4]][['energy_saved']]).split()[2])\n",
    "        else:\n",
    "            _2016 += row['total_waste_recycled_tonne']*int(str(energy.iloc[[3]][['energy_saved']]).split()[2])\n",
    "    \n",
    "    elif row[\"year\"]==2017:\n",
    "        if row[\"waste_type\"]==\"glass\":\n",
    "            _2017 += row['total_waste_recycled_tonne']*int(str(energy.iloc[[2]][['energy_saved']]).split()[2])\n",
    "        elif row[\"waste_type\"]==\"plastic\":\n",
    "            _2017 += row['total_waste_recycled_tonne']*int(str(energy.iloc[[1]][['energy_saved']]).split()[2])\n",
    "        elif row[\"waste_type\"]==\"non-ferrous metal\":\n",
    "            _2017 += row['total_waste_recycled_tonne']*int(str(energy.iloc[[4]][['energy_saved']]).split()[2])\n",
    "        else:\n",
    "            _2017 += row['total_waste_recycled_tonne']*int(str(energy.iloc[[3]][['energy_saved']]).split()[2])\n",
    "    \n",
    "    elif row[\"year\"]==2018:\n",
    "        #print(row)\n",
    "        if row[\"waste_type\"]==\"glass\":\n",
    "            _2018 += row['total_waste_recycled_tonne']*int(str(energy.iloc[[2]][['energy_saved']]).split()[2])\n",
    "            #print(_2018)\n",
    "        elif row[\"waste_type\"]==\"plastic\":\n",
    "            _2018 += row['total_waste_recycled_tonne']*int(str(energy.iloc[[1]][['energy_saved']]).split()[2])\n",
    "            #print(_2018)\n",
    "        elif row[\"waste_type\"]==\"non-ferrous metal\":\n",
    "            _2018 += row['total_waste_recycled_tonne']*int(str(energy.iloc[[4]][['energy_saved']]).split()[2])\n",
    "            #print(_2018)\n",
    "        else:\n",
    "            _2018 += row['total_waste_recycled_tonne']*int(str(energy.iloc[[3]][['energy_saved']]).split()[2])\n",
    "           # print(_2018)\n",
    "        \n",
    "    \n",
    "    elif row[\"year\"]==2019:\n",
    "        if row[\"waste_type\"]==\"glass\":\n",
    "            _2019 += row['total_waste_recycled_tonne']*int(str(energy.iloc[[2]][['energy_saved']]).split()[2])\n",
    "            #print(row['total_waste_recycled_tonne']*1000)\n",
    "        elif row[\"waste_type\"]==\"plastic\":\n",
    "            _2019 += row['total_waste_recycled_tonne']*int(str(energy.iloc[[1]][['energy_saved']]).split()[2])\n",
    "        elif row[\"waste_type\"]==\"non-ferrous metal\":\n",
    "            _2019 += row['total_waste_recycled_tonne']*int(str(energy.iloc[[4]][['energy_saved']]).split()[2])\n",
    "        else:\n",
    "            _2019 += row['total_waste_recycled_tonne']*int(str(energy.iloc[[3]][['energy_saved']]).split()[2])\n"
   ]
  },
  {
   "cell_type": "code",
   "execution_count": null,
   "metadata": {
    "dc": {
     "key": "4"
    },
    "scrolled": true
   },
   "outputs": [],
   "source": [
    "#year = [\"year\", 2015, 2016, 2017, 2018, 2019]\n",
    "saved = {'year' : [2015, 2016, 2017, 2018, 2019],\n",
    "         \"total_energy_saved\" : [int(_2015),\n",
    "                                 int(_2016),\n",
    "                                 int(_2017),\n",
    "                                 int(_2018),\n",
    "                                 int(_2019)]}\n",
    "                                 \n",
    "saved\n",
    "annual_energy_savings =pd.DataFrame(saved)\n",
    "annual_energy_savings=annual_energy_savings.set_index(\"year\")\n",
    "annual_energy_savings"
   ]
  },
  {
   "cell_type": "code",
   "execution_count": null,
   "metadata": {
    "collapsed": true,
    "dc": {
     "key": "4"
    }
   },
   "outputs": [],
   "source": [
    "\n"
   ]
  }
 ],
 "metadata": {
  "kernelspec": {
   "display_name": "Python 3",
   "language": "python",
   "name": "python3"
  },
  "language_info": {
   "codemirror_mode": {
    "name": "ipython",
    "version": 3
   },
   "file_extension": ".py",
   "mimetype": "text/x-python",
   "name": "python",
   "nbconvert_exporter": "python",
   "pygments_lexer": "ipython3",
   "version": "3.8.5"
  }
 },
 "nbformat": 4,
 "nbformat_minor": 2
}
